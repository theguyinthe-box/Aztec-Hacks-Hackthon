{
 "cells": [
  {
   "cell_type": "markdown",
   "metadata": {},
   "source": [
    "# AztecHacks 2024: Quantum Challenge - Implement & Innovate with Classiq\n",
    "\n",
    "---"
   ]
  },
  {
   "cell_type": "code",
   "metadata": {
    "ExecuteTime": {
     "end_time": "2024-04-25T03:39:34.416566Z",
     "start_time": "2024-04-25T03:39:24.738024Z"
    }
   },
   "source": "!pip install -U classiq",
   "outputs": [
    {
     "name": "stdout",
     "output_type": "stream",
     "text": [
      "Requirement already satisfied: classiq in c:\\users\\david\\anaconda3\\lib\\site-packages (0.38.0)\n",
      "Collecting classiq\n",
      "  Obtaining dependency information for classiq from https://files.pythonhosted.org/packages/50/3c/6e679717f774512e3108c48061a630970ee9a08d3f1e8c440c1d08bfde20/classiq-0.40.0-py3-none-any.whl.metadata\n",
      "  Downloading classiq-0.40.0-py3-none-any.whl.metadata (3.0 kB)\n",
      "Requirement already satisfied: ConfigArgParse<2.0.0,>=1.5.3 in c:\\users\\david\\anaconda3\\lib\\site-packages (from classiq) (1.7)\n",
      "Requirement already satisfied: Pyomo<6.6,>=6.5 in c:\\users\\david\\anaconda3\\lib\\site-packages (from classiq) (6.5.0)\n",
      "Requirement already satisfied: httpx<1,>=0.23.0 in c:\\users\\david\\anaconda3\\lib\\site-packages (from classiq) (0.27.0)\n",
      "Requirement already satisfied: keyring<24.0.0,>=23.5.0 in c:\\users\\david\\anaconda3\\lib\\site-packages (from classiq) (23.13.1)\n",
      "Requirement already satisfied: matplotlib<4.0.0,>=3.4.3 in c:\\users\\david\\anaconda3\\lib\\site-packages (from classiq) (3.7.2)\n",
      "Requirement already satisfied: networkx<3.0.0,>=2.5.1 in c:\\users\\david\\anaconda3\\lib\\site-packages (from classiq) (2.8.8)\n",
      "Requirement already satisfied: numexpr<3.0.0,>=2.7.3 in c:\\users\\david\\anaconda3\\lib\\site-packages (from classiq) (2.8.4)\n",
      "Requirement already satisfied: numpy<2.0.0,>=1.20.1 in c:\\users\\david\\anaconda3\\lib\\site-packages (from classiq) (1.24.3)\n",
      "Requirement already satisfied: packaging<22.0,>=21.3 in c:\\users\\david\\anaconda3\\lib\\site-packages (from classiq) (21.3)\n",
      "Requirement already satisfied: pandas<2.0.0,>=1.4.0 in c:\\users\\david\\anaconda3\\lib\\site-packages (from classiq) (1.5.3)\n",
      "Requirement already satisfied: plotly<6.0.0,>=5.7.0 in c:\\users\\david\\anaconda3\\lib\\site-packages (from classiq) (5.9.0)\n",
      "Requirement already satisfied: pydantic<2.0.0,>=1.9.1 in c:\\users\\david\\anaconda3\\lib\\site-packages (from classiq) (1.10.8)\n",
      "Requirement already satisfied: scipy==1.10.1 in c:\\users\\david\\anaconda3\\lib\\site-packages (from classiq) (1.10.1)\n",
      "Requirement already satisfied: sympy<1.11.0,>=1.9.0 in c:\\users\\david\\anaconda3\\lib\\site-packages (from classiq) (1.10.1)\n",
      "Requirement already satisfied: tabulate<1,>=0.8.9 in c:\\users\\david\\anaconda3\\lib\\site-packages (from classiq) (0.8.10)\n",
      "Requirement already satisfied: anyio in c:\\users\\david\\anaconda3\\lib\\site-packages (from httpx<1,>=0.23.0->classiq) (3.5.0)\n",
      "Requirement already satisfied: certifi in c:\\users\\david\\anaconda3\\lib\\site-packages (from httpx<1,>=0.23.0->classiq) (2023.7.22)\n",
      "Requirement already satisfied: httpcore==1.* in c:\\users\\david\\anaconda3\\lib\\site-packages (from httpx<1,>=0.23.0->classiq) (1.0.4)\n",
      "Requirement already satisfied: idna in c:\\users\\david\\anaconda3\\lib\\site-packages (from httpx<1,>=0.23.0->classiq) (3.4)\n",
      "Requirement already satisfied: sniffio in c:\\users\\david\\anaconda3\\lib\\site-packages (from httpx<1,>=0.23.0->classiq) (1.2.0)\n",
      "Requirement already satisfied: h11<0.15,>=0.13 in c:\\users\\david\\anaconda3\\lib\\site-packages (from httpcore==1.*->httpx<1,>=0.23.0->classiq) (0.14.0)\n",
      "Requirement already satisfied: jaraco.classes in c:\\users\\david\\anaconda3\\lib\\site-packages (from keyring<24.0.0,>=23.5.0->classiq) (3.2.1)\n",
      "Requirement already satisfied: importlib-metadata>=4.11.4 in c:\\users\\david\\anaconda3\\lib\\site-packages (from keyring<24.0.0,>=23.5.0->classiq) (6.0.0)\n",
      "Requirement already satisfied: pywin32-ctypes>=0.2.0 in c:\\users\\david\\anaconda3\\lib\\site-packages (from keyring<24.0.0,>=23.5.0->classiq) (0.2.0)\n",
      "Requirement already satisfied: contourpy>=1.0.1 in c:\\users\\david\\anaconda3\\lib\\site-packages (from matplotlib<4.0.0,>=3.4.3->classiq) (1.0.5)\n",
      "Requirement already satisfied: cycler>=0.10 in c:\\users\\david\\anaconda3\\lib\\site-packages (from matplotlib<4.0.0,>=3.4.3->classiq) (0.11.0)\n",
      "Requirement already satisfied: fonttools>=4.22.0 in c:\\users\\david\\anaconda3\\lib\\site-packages (from matplotlib<4.0.0,>=3.4.3->classiq) (4.25.0)\n",
      "Requirement already satisfied: kiwisolver>=1.0.1 in c:\\users\\david\\anaconda3\\lib\\site-packages (from matplotlib<4.0.0,>=3.4.3->classiq) (1.4.4)\n",
      "Requirement already satisfied: pillow>=6.2.0 in c:\\users\\david\\anaconda3\\lib\\site-packages (from matplotlib<4.0.0,>=3.4.3->classiq) (9.4.0)\n",
      "Requirement already satisfied: pyparsing<3.1,>=2.3.1 in c:\\users\\david\\anaconda3\\lib\\site-packages (from matplotlib<4.0.0,>=3.4.3->classiq) (3.0.9)\n",
      "Requirement already satisfied: python-dateutil>=2.7 in c:\\users\\david\\anaconda3\\lib\\site-packages (from matplotlib<4.0.0,>=3.4.3->classiq) (2.8.2)\n",
      "Requirement already satisfied: pytz>=2020.1 in c:\\users\\david\\anaconda3\\lib\\site-packages (from pandas<2.0.0,>=1.4.0->classiq) (2023.3.post1)\n",
      "Requirement already satisfied: tenacity>=6.2.0 in c:\\users\\david\\anaconda3\\lib\\site-packages (from plotly<6.0.0,>=5.7.0->classiq) (8.2.2)\n",
      "Requirement already satisfied: typing-extensions>=4.2.0 in c:\\users\\david\\anaconda3\\lib\\site-packages (from pydantic<2.0.0,>=1.9.1->classiq) (4.7.1)\n",
      "Requirement already satisfied: ply in c:\\users\\david\\anaconda3\\lib\\site-packages (from Pyomo<6.6,>=6.5->classiq) (3.11)\n",
      "Requirement already satisfied: mpmath>=0.19 in c:\\users\\david\\anaconda3\\lib\\site-packages (from sympy<1.11.0,>=1.9.0->classiq) (1.3.0)\n",
      "Requirement already satisfied: zipp>=0.5 in c:\\users\\david\\anaconda3\\lib\\site-packages (from importlib-metadata>=4.11.4->keyring<24.0.0,>=23.5.0->classiq) (3.11.0)\n",
      "Requirement already satisfied: six>=1.5 in c:\\users\\david\\anaconda3\\lib\\site-packages (from python-dateutil>=2.7->matplotlib<4.0.0,>=3.4.3->classiq) (1.16.0)\n",
      "Requirement already satisfied: more-itertools in c:\\users\\david\\anaconda3\\lib\\site-packages (from jaraco.classes->keyring<24.0.0,>=23.5.0->classiq) (8.12.0)\n",
      "Downloading classiq-0.40.0-py3-none-any.whl (391 kB)\n",
      "   ---------------------------------------- 0.0/391.1 kB ? eta -:--:--\n",
      "   --- ------------------------------------ 30.7/391.1 kB 1.3 MB/s eta 0:00:01\n",
      "   -------------------- ------------------- 204.8/391.1 kB 3.1 MB/s eta 0:00:01\n",
      "   ---------------------------------------- 391.1/391.1 kB 4.1 MB/s eta 0:00:00\n",
      "Installing collected packages: classiq\n",
      "  Attempting uninstall: classiq\n",
      "    Found existing installation: classiq 0.38.0\n",
      "    Uninstalling classiq-0.38.0:\n",
      "      Successfully uninstalled classiq-0.38.0\n",
      "Successfully installed classiq-0.40.0\n"
     ]
    }
   ],
   "execution_count": 3
  },
  {
   "cell_type": "code",
   "metadata": {
    "ExecuteTime": {
     "end_time": "2024-04-25T03:41:20.744403Z",
     "start_time": "2024-04-25T03:41:15.383545Z"
    }
   },
   "source": [
    "import classiq\n",
    "classiq.authenticate()"
   ],
   "outputs": [
    {
     "name": "stderr",
     "output_type": "stream",
     "text": [
      "C:\\Users\\david\\anaconda3\\Lib\\site-packages\\classiq\\_internals\\authentication\\token_manager.py:96: UserWarning: Device is already registered.\n",
      "Generating a new refresh token should only be done if the current refresh token is compromised.\n",
      "To do so, set the overwrite parameter to true\n",
      "  warnings.warn(\n"
     ]
    }
   ],
   "execution_count": 1
  },
  {
   "cell_type": "code",
   "metadata": {
    "ExecuteTime": {
     "end_time": "2024-04-25T03:42:06.881860Z",
     "start_time": "2024-04-25T03:42:06.877198Z"
    }
   },
   "source": [
    "from classiq import *\n",
    "import numpy as np"
   ],
   "outputs": [],
   "execution_count": 5
  },
  {
   "cell_type": "markdown",
   "metadata": {},
   "source": [
    "\n",
    "---\n",
    "\n",
    "### `inplace_square`\n",
    "**What it computes:**\n",
    "- This function computes the square of the input quantum number `x` and stores the result in `y`.\n",
    "- **Mathematical description:** $ y = x^2 $\n",
    "\n",
    "**Parameters:**\n",
    "- `y`, `x`: Quantum numbers (`QNum`).\n",
    "\n",
    "---\n",
    "\n",
    "### `inplace_linear`\n",
    "**What it computes:**\n",
    "- Computes a linear transformation of the input quantum number `x` using constants `a` and `b`, storing the result in `y`.\n",
    "- **Mathematical description:** $ y = ax + b $\n",
    "\n",
    "**Parameters:**\n",
    "- `a`, `b`: Classical integers (`CInt`).\n",
    "- `x`, `y`: Quantum numbers (`QNum`).\n",
    "\n",
    "---\n",
    "\n",
    "### `inplace_quadratic`\n",
    "**What it computes:**\n",
    "- Computes the quadratic polynomial of the input quantum number `x` with coefficients `a`, `b`, and `c`, storing the result in `y`.\n",
    "- **Mathematical description:** $ y = ax^2 + bx + c $\n",
    "\n",
    "**Parameters:**\n",
    "- `a`, `b`, `c`: Classical integers (`CInt`).\n",
    "- `x`, `y`: Quantum numbers (`QNum`).\n",
    "\n",
    "---\n",
    "\n",
    "### `inplace_cubic`\n",
    "**What it computes:**\n",
    "- Computes the cubic of the input quantum number `x` using coefficient `a`, storing the result in `y`.\n",
    "- **Mathematical description:** $ y = ax^3 $\n",
    "\n",
    "**Parameters:**\n",
    "- `a`: A classical integer (`CInt`).\n",
    "- `x` , `y`: Quantum numbers (`QNum`).\n",
    "\n",
    "---\n",
    "\n",
    "\n",
    "### `inplace_exponential`\n",
    "**What it computes:**\n",
    "- Computes the exponential of the input quantum number `x` raised to a power `b` and scaled by `a`, storing the result in `y`.\n",
    "- **Mathematical description:** $ y = ax^b $\n",
    "\n",
    "**Parameters:**\n",
    "- `a`, `b`: Classical integers (`CInt`).\n",
    "- `x`, `y`: Quantum numbers (`QNum`).\n",
    "\n",
    "---"
   ]
  },
  {
   "cell_type": "code",
   "metadata": {
    "ExecuteTime": {
     "end_time": "2024-04-25T03:42:42.120999Z",
     "start_time": "2024-04-25T03:42:42.115098Z"
    }
   },
   "source": [
    "\n",
    "@qfunc\n",
    "def inplace_square(y:Output[QNum],x:QNum):\n",
    "    y |= x**2\n",
    "\n",
    "@qfunc\n",
    "def inplace_linear(a:CInt, b:CInt, x: Input[QNum]):\n",
    "    x *= a\n",
    "    x += b\n",
    "\n",
    "@qfunc\n",
    "def inplace_quadratic(a:CInt, b:CInt, c: CInt, x: Input[QNum], y:Output[QNum]):\n",
    "    y |= a * x**2 + b * x + c\n",
    "\n",
    "@qfunc\n",
    "def inplace_cubic(y:QNum,a:CInt,x:QNum):\n",
    "    y |= a * x**3\n",
    "\n",
    "@qfunc\n",
    "def inplace_exponential(y:QNum,a:CInt, b:CInt,x:QNum):\n",
    "    y |= a * x**b"
   ],
   "outputs": [],
   "execution_count": 6
  },
  {
   "cell_type": "code",
   "metadata": {
    "ExecuteTime": {
     "end_time": "2024-04-25T03:44:15.634956Z",
     "start_time": "2024-04-25T03:44:11.463814Z"
    }
   },
   "source": [
    "@qfunc\n",
    "def main(y: Output[QNum], x:Output[QNum]):\n",
    "    allocate(num_qubits=4,  out=x)\n",
    "\n",
    "    hadamard_transform(x)\n",
    "\n",
    "    inplace_square(y,x)\n",
    "     \n",
    "qmod = create_model(main)\n",
    "qprog = synthesize(qmod)\n",
    "job = execute(qprog)\n",
    "job.open_in_ide()"
   ],
   "outputs": [],
   "execution_count": 7
  },
  {
   "cell_type": "markdown",
   "metadata": {},
   "source": [
    "---\n",
    "\n",
    "### `discrete_log_oracle`\n",
    "**What it computes:**\n",
    "- A quantum function that is part of a larger quantum algorithm for computing the discrete logarithm. It is an oracle used in the quantum discrete logarithm algorithm.\n",
    "- **Mathematical description:** Not explicitly given, but part of an oracle computation in quantum algorithms.\n",
    "\n",
    "**Parameters:**\n",
    "- `g`, `x`, `N`: Classical integers (`CInt`), parameters of the discrete logarithm problem.\n",
    "- `x1`, `x2`: Quantum arrays (`QArray[QBit]`), used in the computation.\n",
    "- `func_res`: An output quantum array (`Output[QArray[QBit]]`) where the result of the computation is stored.\n",
    "\n",
    "---\n",
    "\n",
    "### `inplace_discrete_logarithm`\n",
    "**What it computes:**\n",
    "- Implements a quantum algorithm for computing the discrete logarithm of `x` base `g` modulo `N`.\n",
    "- **Mathematical description:** Not explicitly detailed, but involves quantum Fourier transforms and other quantum operations.\n",
    "\n",
    "**Parameters:**\n",
    "- `g`, `x`, `N`, `order`: Classical integers (`CInt`), parameters of the discrete logarithm problem and its order.\n",
    "- `x1`, `x2`: Outputs that are quantum arrays (`Output[QArray[QBit]]`), used in the computation.\n",
    "- `func_res`: An output quantum array (`Output[QArray[QBit]]`) where the result of the computation is stored.\n",
    "\n",
    "---"
   ]
  },
  {
   "cell_type": "code",
   "execution_count": 129,
   "metadata": {},
   "outputs": [],
   "source": [
    "from classiq.qmod.symbolic import ceiling, log\n",
    "\n",
    "@qfunc\n",
    "def discrete_log_oracle(\n",
    "    g: QParam[CInt],\n",
    "    x: QParam[CInt],\n",
    "    N: QParam[CInt],\n",
    "    x1: QArray[QBit],\n",
    "    x2: QArray[QBit],\n",
    "    func_res: Output[QArray[QBit]],\n",
    "):\n",
    "\n",
    "    pass\n",
    "\n",
    "@qfunc\n",
    "def inplace_discrete_logarithm(g: CInt,\n",
    "    x: CInt,\n",
    "    N: CInt,\n",
    "    order: CInt,\n",
    "    x1: Output[QArray[QBit]],\n",
    "    x2: Output[QArray[QBit]],\n",
    "    func_res: Output[QArray[QBit]],\n",
    "):\n",
    "    pass"
   ]
  },
  {
   "cell_type": "markdown",
   "metadata": {},
   "source": [
    "---\n",
    "\n",
    "\n",
    "### `equality_oracle`\n",
    "**What it computes:**\n",
    "- This function compares two quantum numbers `x_1` and `x_2` for equality, and stores the result in `y`.\n",
    "- **Mathematical description:** $ y = (x_1 == x_2) $ (This function sets `y` to a value indicating whether `x_1` and `x_2` are equal.)\n",
    "\n",
    "**Parameters:**\n",
    "- `y`: A quantum number (`QNum`) where the result is stored.\n",
    "- `x_1`, `x_2`: Quantum numbers (`QNum`) that are compared.\n",
    "\n",
    "---\n",
    "\n",
    "### `inplace_sum`\n",
    "**What it computes:**\n",
    "- Computes the sum of two quantum numbers `y` and `x`, storing the result back in `y`.\n",
    "- **Mathematical description:** $ y = y + x $\n",
    "\n",
    "**Parameters:**\n",
    "- `y`: A quantum number (`QNum`) that holds the initial value and where the result is stored.\n",
    "- `x`: A quantum number (`QNum`) that is added to `y`.\n",
    "\n",
    "---\n",
    "\n",
    "### `sum_of_squares`\n",
    "**What it computes:**\n",
    "- Calculates the sum of the squares of two quantum numbers `x_1` and `x_2`, storing the result in `y`.\n",
    "- **Mathematical description:** $ y = x_1^2 + x_2^2 $\n",
    "- This function involves additional operations like allocating temporary quantum numbers `temp_1` and `temp_2` and performing transformations on them.\n",
    "\n",
    "**Parameters:**\n",
    "- `y`: A quantum number (`QNum`) where the result is stored.\n",
    "- `x_1`, `x_2`: Quantum numbers (`QNum`) whose squares are computed and summed.\n",
    "\n",
    "---"
   ]
  },
  {
   "cell_type": "code",
   "metadata": {
    "ExecuteTime": {
     "end_time": "2024-04-25T04:16:03.115177Z",
     "start_time": "2024-04-25T04:16:03.101339Z"
    }
   },
   "source": [
    "@qfunc\n",
    "def equality_oracle(y:QNum,x_1:QNum,x_2:QNum):\n",
    "    y = (x_1 == x_2)\n",
    "\n",
    "@qfunc\n",
    "def inplace_sum(y:QNum, x:QNum):\n",
    "    y += x\n",
    "    \n",
    "@qfunc\n",
    "def sum_of_squares(y:QNum,x_1:QNum,x_2:QNum):\n",
    "    temp_1 = QNum(\"temp_1\")\n",
    "    temp_2 = QNum(\"temp_2\")\n",
    "    allocate(num_qubits=4, out=temp_1)\n",
    "    allocate(num_qubits=4, out=temp_2)\n",
    "    temp_1 |= x_1**2\n",
    "    temp_2 |= x_2**2\n",
    "    y += temp_1\n",
    "    y += temp_2"
   ],
   "outputs": [],
   "execution_count": 12
  },
  {
   "metadata": {},
   "cell_type": "code",
   "outputs": [],
   "execution_count": null,
   "source": [
    "@qfunc\n",
    "def main(y: Output[QNum], x:Output[QNum]):\n",
    "    allocate(num_qubits=4,  out=x)\n",
    "\n",
    "    hadamard_transform(x)\n",
    "\n",
    "    inplace_square(y,x)\n",
    "     \n",
    "qmod = create_model(main)\n",
    "qprog = synthesize(qmod)\n",
    "job = execute(qprog)\n",
    "job.open_in_ide()"
   ]
  }
 ],
 "metadata": {
  "kernelspec": {
   "display_name": "Python 3",
   "language": "python",
   "name": "python3"
  },
  "language_info": {
   "codemirror_mode": {
    "name": "ipython",
    "version": 3
   },
   "file_extension": ".py",
   "mimetype": "text/x-python",
   "name": "python",
   "nbconvert_exporter": "python",
   "pygments_lexer": "ipython3",
   "version": "3.11.9"
  }
 },
 "nbformat": 4,
 "nbformat_minor": 2
}
