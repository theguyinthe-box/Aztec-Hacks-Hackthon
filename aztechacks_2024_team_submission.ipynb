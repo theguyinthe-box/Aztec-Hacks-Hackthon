{
 "cells": [
  {
   "cell_type": "markdown",
   "metadata": {},
   "source": [
    "# AztecHacks 2024: Quantum Challenge - Implement & Innovate with Classiq\n",
    "\n",
    "---"
   ]
  },
  {
   "cell_type": "code",
   "metadata": {
    "ExecuteTime": {
     "end_time": "2024-04-25T03:29:18.937337Z",
     "start_time": "2024-04-25T03:29:11.854391Z"
    }
   },
   "source": [
    "import classiq\n",
    "classiq.authenticate()\n",
    "\n"
   ],
   "outputs": [
    {
     "name": "stderr",
     "output_type": "stream",
     "text": [
      "C:\\Users\\ianja\\PycharmProjects\\pythonProject\\venv\\Lib\\site-packages\\classiq\\_internals\\authentication\\token_manager.py:96: UserWarning: Device is already registered.\n",
      "Generating a new refresh token should only be done if the current refresh token is compromised.\n",
      "To do so, set the overwrite parameter to true\n",
      "  warnings.warn(\n"
     ]
    }
   ],
   "execution_count": 1
  },
  {
   "cell_type": "code",
   "metadata": {
    "ExecuteTime": {
     "end_time": "2024-04-25T03:29:18.949352Z",
     "start_time": "2024-04-25T03:29:18.937337Z"
    }
   },
   "source": [
    "from classiq import *\n",
    "import numpy as np"
   ],
   "outputs": [],
   "execution_count": 2
  },
  {
   "cell_type": "markdown",
   "metadata": {},
   "source": [
    "\n",
    "---\n",
    "\n",
    "### `inplace_square`\n",
    "**What it computes:**\n",
    "- This function computes the square of the input quantum number `x` and stores the result in `y`.\n",
    "- **Mathematical description:** $ y = x^2 $\n",
    "\n",
    "**Parameters:**\n",
    "- `y`, `x`: Quantum numbers (`QNum`).\n",
    "\n",
    "---\n",
    "\n",
    "### `inplace_linear`\n",
    "**What it computes:**\n",
    "- Computes a linear transformation of the input quantum number `x` using constants `a` and `b`, storing the result in `y`.\n",
    "- **Mathematical description:** $ y = ax + b $\n",
    "\n",
    "**Parameters:**\n",
    "- `a`, `b`: Classical integers (`CInt`).\n",
    "- `x`, `y`: Quantum numbers (`QNum`).\n",
    "\n",
    "---\n",
    "\n",
    "### `inplace_quadratic`\n",
    "**What it computes:**\n",
    "- Computes the quadratic polynomial of the input quantum number `x` with coefficients `a`, `b`, and `c`, storing the result in `y`.\n",
    "- **Mathematical description:** $ y = ax^2 + bx + c $\n",
    "\n",
    "**Parameters:**\n",
    "- `a`, `b`, `c`: Classical integers (`CInt`).\n",
    "- `x`, `y`: Quantum numbers (`QNum`).\n",
    "\n",
    "---\n",
    "\n",
    "### `inplace_cubic`\n",
    "**What it computes:**\n",
    "- Computes the cubic of the input quantum number `x` using coefficient `a`, storing the result in `y`.\n",
    "- **Mathematical description:** $ y = ax^3 $\n",
    "\n",
    "**Parameters:**\n",
    "- `a`: A classical integer (`CInt`).\n",
    "- `x` , `y`: Quantum numbers (`QNum`).\n",
    "\n",
    "---\n",
    "\n",
    "\n",
    "### `inplace_exponential`\n",
    "**What it computes:**\n",
    "- Computes the exponential of the input quantum number `x` raised to a power `b` and scaled by `a`, storing the result in `y`.\n",
    "- **Mathematical description:** $ y = ax^b $\n",
    "\n",
    "**Parameters:**\n",
    "- `a`, `b`: Classical integers (`CInt`).\n",
    "- `x`, `y`: Quantum numbers (`QNum`).\n",
    "\n",
    "---"
   ]
  },
  {
   "cell_type": "code",
   "metadata": {
    "ExecuteTime": {
     "end_time": "2024-04-25T03:42:05.784347Z",
     "start_time": "2024-04-25T03:42:05.772230Z"
    }
   },
   "source": [
    "\n",
    "@qfunc\n",
    "def inplace_square(y:Output[QNum],x:QNum):\n",
    "    y |= x**2\n",
    "\n",
    "@qfunc\n",
    "def inplace_linear(a:CInt, b:CInt,x:QNum, y:Output[QNum]):\n",
    "    y |= a * x + b\n",
    "    \n",
    "    \n",
    "\n",
    "@qfunc\n",
    "def inplace_quadratic(a:CInt, b:CInt, c:CInt,x:QNum, y:Output[QNum]):\n",
    "    y |= a * x**2 + b * x + c\n",
    "    \n",
    "\n",
    "@qfunc\n",
    "def inplace_cubic(y:Output[QNum],a:CInt,x:QNum):\n",
    "    y |= a * x**3\n",
    "\n",
    "@qfunc\n",
    "def inplace_exponential(y:Output[QNum],a:CInt, b:CInt,x:QNum):\n",
    "    y |= a * x**b\n",
    "\n",
    "\n",
    "    \n"
   ],
   "outputs": [],
   "execution_count": 14
  },
  {
   "metadata": {
    "ExecuteTime": {
     "end_time": "2024-04-25T03:44:45.267358Z",
     "start_time": "2024-04-25T03:44:45.179948Z"
    }
   },
   "cell_type": "code",
   "source": "",
   "outputs": [
    {
     "ename": "ValidationError",
     "evalue": "1 validation error for Model\n__root__\n  Handle 'y' was errored with \"Trying to access handle 'y' as output but it is in incorrect state. Trying to access handle 'y' as output but it is in incorrect state. Trying to access handle 'y' as output but it is in incorrect state. Trying to access handle 'y' as output but it is in incorrect state\"\nIf you need further assistance, please reach out on our Community Slack channel at: https://short.classiq.io/join-slack\nIf the error persists feel free to open a ticket at: https://short.classiq.io/support (type=value_error.classiqvalue; _raw_message=Handle 'y' was errored with \"Trying to access handle 'y' as output but it is in incorrect state. Trying to access handle 'y' as output but it is in incorrect state. Trying to access handle 'y' as output but it is in incorrect state. Trying to access handle 'y' as output but it is in incorrect state\")",
     "output_type": "error",
     "traceback": [
      "\u001B[1;31m---------------------------------------------------------------------------\u001B[0m",
      "\u001B[1;31mValidationError\u001B[0m                           Traceback (most recent call last)",
      "Cell \u001B[1;32mIn[16], line 15\u001B[0m\n\u001B[0;32m     11\u001B[0m     inplace_cubic(y,a,x)\n\u001B[0;32m     12\u001B[0m     inplace_exponential(y,a,b,x)\n\u001B[1;32m---> 15\u001B[0m qmod \u001B[38;5;241m=\u001B[39m \u001B[43mcreate_model\u001B[49m\u001B[43m(\u001B[49m\u001B[43mmain\u001B[49m\u001B[43m)\u001B[49m\n\u001B[0;32m     16\u001B[0m qprog \u001B[38;5;241m=\u001B[39m synthesize(qmod)\n\u001B[0;32m     17\u001B[0m job \u001B[38;5;241m=\u001B[39m execute(qprog)\n",
      "File \u001B[1;32m~\\PycharmProjects\\pythonProject\\venv\\Lib\\site-packages\\classiq\\qmod\\quantum_function.py:44\u001B[0m, in \u001B[0;36mcreate_model\u001B[1;34m(entry_point, constraints, execution_preferences, preferences, classical_execution_function)\u001B[0m\n\u001B[0;32m     40\u001B[0m \u001B[38;5;28;01mif\u001B[39;00m entry_point\u001B[38;5;241m.\u001B[39mfunc_decl\u001B[38;5;241m.\u001B[39mname \u001B[38;5;241m!=\u001B[39m \u001B[38;5;124m\"\u001B[39m\u001B[38;5;124mmain\u001B[39m\u001B[38;5;124m\"\u001B[39m:\n\u001B[0;32m     41\u001B[0m     \u001B[38;5;28;01mraise\u001B[39;00m ClassiqError(\n\u001B[0;32m     42\u001B[0m         \u001B[38;5;124mf\u001B[39m\u001B[38;5;124m\"\u001B[39m\u001B[38;5;124mThe entry point function must be named \u001B[39m\u001B[38;5;124m'\u001B[39m\u001B[38;5;124mmain\u001B[39m\u001B[38;5;124m'\u001B[39m\u001B[38;5;124m, got \u001B[39m\u001B[38;5;124m'\u001B[39m\u001B[38;5;132;01m{\u001B[39;00mentry_point\u001B[38;5;241m.\u001B[39mfunc_decl\u001B[38;5;241m.\u001B[39mname\u001B[38;5;132;01m}\u001B[39;00m\u001B[38;5;124m'\u001B[39m\u001B[38;5;124m\"\u001B[39m\n\u001B[0;32m     43\u001B[0m     )\n\u001B[1;32m---> 44\u001B[0m \u001B[38;5;28;01mreturn\u001B[39;00m \u001B[43mentry_point\u001B[49m\u001B[38;5;241;43m.\u001B[39;49m\u001B[43mcreate_model\u001B[49m\u001B[43m(\u001B[49m\n\u001B[0;32m     45\u001B[0m \u001B[43m    \u001B[49m\u001B[43mconstraints\u001B[49m\u001B[43m,\u001B[49m\u001B[43m \u001B[49m\u001B[43mexecution_preferences\u001B[49m\u001B[43m,\u001B[49m\u001B[43m \u001B[49m\u001B[43mpreferences\u001B[49m\u001B[43m,\u001B[49m\u001B[43m \u001B[49m\u001B[43mclassical_execution_function\u001B[49m\n\u001B[0;32m     46\u001B[0m \u001B[43m\u001B[49m\u001B[43m)\u001B[49m\u001B[38;5;241m.\u001B[39mget_model()\n",
      "File \u001B[1;32m~\\PycharmProjects\\pythonProject\\venv\\Lib\\site-packages\\classiq\\qmod\\quantum_function.py:100\u001B[0m, in \u001B[0;36mQFunc.create_model\u001B[1;34m(self, constraints, execution_preferences, preferences, classical_execution_function)\u001B[0m\n\u001B[0;32m     96\u001B[0m     \u001B[38;5;28mself\u001B[39m\u001B[38;5;241m.\u001B[39m_add_constants_from_classical_code(classical_execution_function)\n\u001B[0;32m     97\u001B[0m     model_extra_settings\u001B[38;5;241m.\u001B[39mappend(\n\u001B[0;32m     98\u001B[0m         (\u001B[38;5;124m\"\u001B[39m\u001B[38;5;124mclassical_execution_code\u001B[39m\u001B[38;5;124m\"\u001B[39m, classical_execution_function\u001B[38;5;241m.\u001B[39mcode)\n\u001B[0;32m     99\u001B[0m     )\n\u001B[1;32m--> 100\u001B[0m \u001B[38;5;28;01mreturn\u001B[39;00m \u001B[43mModel\u001B[49m\u001B[43m(\u001B[49m\n\u001B[0;32m    101\u001B[0m \u001B[43m    \u001B[49m\u001B[43mconstants\u001B[49m\u001B[38;5;241;43m=\u001B[39;49m\u001B[38;5;28;43mlist\u001B[39;49m\u001B[43m(\u001B[49m\u001B[38;5;28;43mself\u001B[39;49m\u001B[38;5;241;43m.\u001B[39;49m\u001B[43m_qmodule\u001B[49m\u001B[38;5;241;43m.\u001B[39;49m\u001B[43mconstants\u001B[49m\u001B[38;5;241;43m.\u001B[39;49m\u001B[43mvalues\u001B[49m\u001B[43m(\u001B[49m\u001B[43m)\u001B[49m\u001B[43m)\u001B[49m\u001B[43m,\u001B[49m\n\u001B[0;32m    102\u001B[0m \u001B[43m    \u001B[49m\u001B[43mfunctions\u001B[49m\u001B[38;5;241;43m=\u001B[39;49m\u001B[38;5;28;43mlist\u001B[39;49m\u001B[43m(\u001B[49m\u001B[38;5;28;43mself\u001B[39;49m\u001B[38;5;241;43m.\u001B[39;49m\u001B[43m_qmodule\u001B[49m\u001B[38;5;241;43m.\u001B[39;49m\u001B[43mnative_defs\u001B[49m\u001B[38;5;241;43m.\u001B[39;49m\u001B[43mvalues\u001B[49m\u001B[43m(\u001B[49m\u001B[43m)\u001B[49m\u001B[43m)\u001B[49m\u001B[43m,\u001B[49m\n\u001B[0;32m    103\u001B[0m \u001B[43m    \u001B[49m\u001B[43mtypes\u001B[49m\u001B[38;5;241;43m=\u001B[39;49m\u001B[38;5;28;43mlist\u001B[39;49m\u001B[43m(\u001B[49m\u001B[38;5;28;43mself\u001B[39;49m\u001B[38;5;241;43m.\u001B[39;49m\u001B[43m_qmodule\u001B[49m\u001B[38;5;241;43m.\u001B[39;49m\u001B[43mtype_decls\u001B[49m\u001B[38;5;241;43m.\u001B[39;49m\u001B[43mvalues\u001B[49m\u001B[43m(\u001B[49m\u001B[43m)\u001B[49m\u001B[43m)\u001B[49m\u001B[43m,\u001B[49m\n\u001B[0;32m    104\u001B[0m \u001B[43m    \u001B[49m\u001B[38;5;241;43m*\u001B[39;49m\u001B[38;5;241;43m*\u001B[39;49m\u001B[43m{\u001B[49m\u001B[43mkey\u001B[49m\u001B[43m:\u001B[49m\u001B[43m \u001B[49m\u001B[43mvalue\u001B[49m\u001B[43m \u001B[49m\u001B[38;5;28;43;01mfor\u001B[39;49;00m\u001B[43m \u001B[49m\u001B[43mkey\u001B[49m\u001B[43m,\u001B[49m\u001B[43m \u001B[49m\u001B[43mvalue\u001B[49m\u001B[43m \u001B[49m\u001B[38;5;129;43;01min\u001B[39;49;00m\u001B[43m \u001B[49m\u001B[43mmodel_extra_settings\u001B[49m\u001B[43m \u001B[49m\u001B[38;5;28;43;01mif\u001B[39;49;00m\u001B[43m \u001B[49m\u001B[43mvalue\u001B[49m\u001B[43m}\u001B[49m\u001B[43m,\u001B[49m\n\u001B[0;32m    105\u001B[0m \u001B[43m\u001B[49m\u001B[43m)\u001B[49m\n",
      "File \u001B[1;32m~\\PycharmProjects\\pythonProject\\venv\\Lib\\site-packages\\pydantic\\main.py:341\u001B[0m, in \u001B[0;36mpydantic.main.BaseModel.__init__\u001B[1;34m()\u001B[0m\n",
      "\u001B[1;31mValidationError\u001B[0m: 1 validation error for Model\n__root__\n  Handle 'y' was errored with \"Trying to access handle 'y' as output but it is in incorrect state. Trying to access handle 'y' as output but it is in incorrect state. Trying to access handle 'y' as output but it is in incorrect state. Trying to access handle 'y' as output but it is in incorrect state\"\nIf you need further assistance, please reach out on our Community Slack channel at: https://short.classiq.io/join-slack\nIf the error persists feel free to open a ticket at: https://short.classiq.io/support (type=value_error.classiqvalue; _raw_message=Handle 'y' was errored with \"Trying to access handle 'y' as output but it is in incorrect state. Trying to access handle 'y' as output but it is in incorrect state. Trying to access handle 'y' as output but it is in incorrect state. Trying to access handle 'y' as output but it is in incorrect state\")"
     ]
    }
   ],
   "execution_count": 16
  },
  {
   "cell_type": "markdown",
   "metadata": {},
   "source": [
    "---\n",
    "\n",
    "### `discrete_log_oracle`\n",
    "**What it computes:**\n",
    "- A quantum function that is part of a larger quantum algorithm for computing the discrete logarithm. It is an oracle used in the quantum discrete logarithm algorithm.\n",
    "- **Mathematical description:** Not explicitly given, but part of an oracle computation in quantum algorithms.\n",
    "\n",
    "**Parameters:**\n",
    "- `g`, `x`, `N`: Classical integers (`CInt`), parameters of the discrete logarithm problem.\n",
    "- `x1`, `x2`: Quantum arrays (`QArray[QBit]`), used in the computation.\n",
    "- `func_res`: An output quantum array (`Output[QArray[QBit]]`) where the result of the computation is stored.\n",
    "\n",
    "---\n",
    "\n",
    "### `inplace_discrete_logarithm`\n",
    "**What it computes:**\n",
    "- Implements a quantum algorithm for computing the discrete logarithm of `x` base `g` modulo `N`.\n",
    "- **Mathematical description:** Not explicitly detailed, but involves quantum Fourier transforms and other quantum operations.\n",
    "\n",
    "**Parameters:**\n",
    "- `g`, `x`, `N`, `order`: Classical integers (`CInt`), parameters of the discrete logarithm problem and its order.\n",
    "- `x1`, `x2`: Outputs that are quantum arrays (`Output[QArray[QBit]]`), used in the computation.\n",
    "- `func_res`: An output quantum array (`Output[QArray[QBit]]`) where the result of the computation is stored.\n",
    "\n",
    "---"
   ]
  },
  {
   "cell_type": "code",
   "metadata": {
    "ExecuteTime": {
     "end_time": "2024-04-25T03:29:20.339479Z",
     "start_time": "2024-04-25T03:29:20.339479Z"
    }
   },
   "source": [
    "from classiq.qmod.symbolic import ceiling, log\n",
    "\n",
    "@qfunc\n",
    "def discrete_log_oracle(\n",
    "    g: CInt,\n",
    "    x: CInt,\n",
    "    N: CInt,\n",
    "    x1: QArray[QBit],\n",
    "    x2: QArray[QBit],\n",
    "    func_res: Output[QArray[QBit]],\n",
    "):\n",
    "    \n",
    "\n",
    "\n",
    "@qfunc\n",
    "def inplace_discrete_logarithm(g: CInt,\n",
    "    x: CInt,\n",
    "    N: CInt,\n",
    "    order: CInt,\n",
    "    x1: Output[QArray[QBit]],\n",
    "    x2: Output[QArray[QBit]],\n",
    "    func_res: Output[QArray[QBit]],\n",
    "):\n",
    "    pass"
   ],
   "outputs": [],
   "execution_count": null
  },
  {
   "cell_type": "markdown",
   "metadata": {},
   "source": [
    "---\n",
    "\n",
    "\n",
    "### `equality_oracle`\n",
    "**What it computes:**\n",
    "- This function compares two quantum numbers `x_1` and `x_2` for equality, and stores the result in `y`.\n",
    "- **Mathematical description:** $ y = (x_1 == x_2) $ (This function sets `y` to a value indicating whether `x_1` and `x_2` are equal.)\n",
    "\n",
    "**Parameters:**\n",
    "- `y`: A quantum number (`QNum`) where the result is stored.\n",
    "- `x_1`, `x_2`: Quantum numbers (`QNum`) that are compared.\n",
    "\n",
    "---\n",
    "\n",
    "### `inplace_sum`\n",
    "**What it computes:**\n",
    "- Computes the sum of two quantum numbers `y` and `x`, storing the result back in `y`.\n",
    "- **Mathematical description:** $ y = y + x $\n",
    "\n",
    "**Parameters:**\n",
    "- `y`: A quantum number (`QNum`) that holds the initial value and where the result is stored.\n",
    "- `x`: A quantum number (`QNum`) that is added to `y`.\n",
    "\n",
    "---\n",
    "\n",
    "### `sum_of_squares`\n",
    "**What it computes:**\n",
    "- Calculates the sum of the squares of two quantum numbers `x_1` and `x_2`, storing the result in `y`.\n",
    "- **Mathematical description:** $ y = x_1^2 + x_2^2 $\n",
    "- This function involves additional operations like allocating temporary quantum numbers `temp_1` and `temp_2` and performing transformations on them.\n",
    "\n",
    "**Parameters:**\n",
    "- `y`: A quantum number (`QNum`) where the result is stored.\n",
    "- `x_1`, `x_2`: Quantum numbers (`QNum`) whose squares are computed and summed.\n",
    "\n",
    "---"
   ]
  },
  {
   "cell_type": "code",
   "metadata": {
    "ExecuteTime": {
     "end_time": "2024-04-25T04:18:25.052523Z",
     "start_time": "2024-04-25T04:18:25.032606Z"
    }
   },
   "source": [
    "@qfunc\n",
    "def equality_oracle(y:Output[QNum],x_1:QNum,x_2:QNum):\n",
    "    y |= (x_1 == x_2)\n",
    "\n",
    "@qfunc\n",
    "def inplace_sum(y:QNum,x:QNum):\n",
    "    y += x\n",
    "\n",
    "@qfunc\n",
    "def sum_of_squares(y:Output[QNum],x_1:QNum,x_2:QNum):\n",
    "    temp_1 = QNum(\"temp_1\")\n",
    "    temp_2 = QNum(\"temp_2\")\n",
    "    \n",
    "    inplace_square(temp_1,x_1)\n",
    "    inplace_square(temp_2,x_2)\n",
    "    y |= temp_1 + temp_2"
   ],
   "outputs": [],
   "execution_count": 78
  },
  {
   "metadata": {
    "ExecuteTime": {
     "end_time": "2024-04-25T04:19:46.303503Z",
     "start_time": "2024-04-25T04:19:39.775162Z"
    }
   },
   "cell_type": "code",
   "source": [
    "@qfunc\n",
    "def main(y:Output[QNum], x:Output[QNum]):\n",
    "    a = 2\n",
    "    b = 4\n",
    "    c = 4\n",
    "    #allocate_num(num_qubits=2,is_signed=False,fraction_digits=0,out=x_1)\n",
    "    #allocate_num(num_qubits=2,is_signed=False,fraction_digits=0,out=x_2)\n",
    "    allocate_num(num_qubits=2,is_signed=False,fraction_digits=0,out=x)\n",
    "    allocate_num(num_qubits=2,is_signed=False,fraction_digits=0,out=y)\n",
    "    hadamard_transform(x)\n",
    "    hadamard_transform(y)\n",
    "    #inplace_square(y,x)\n",
    "    #inplace_linear(a,b,x,y)\n",
    "    #inplace_quadratic(a,b,c,x,y)\n",
    "    #inplace_cubic(y,a,x)\n",
    "    #sum_of_squares(y,x_1,x_2)\n",
    "    inplace_sum(y,x)\n",
    "    \n",
    "    \n",
    "qmod = create_model(main)\n",
    "qprog = synthesize(qmod)\n",
    "job = execute(qprog)\n",
    "job.open_in_ide()"
   ],
   "outputs": [],
   "execution_count": 80
  },
  {
   "metadata": {},
   "cell_type": "code",
   "outputs": [],
   "execution_count": null,
   "source": ""
  }
 ],
 "metadata": {
  "kernelspec": {
   "display_name": "Python 3",
   "language": "python",
   "name": "python3"
  },
  "language_info": {
   "codemirror_mode": {
    "name": "ipython",
    "version": 3
   },
   "file_extension": ".py",
   "mimetype": "text/x-python",
   "name": "python",
   "nbconvert_exporter": "python",
   "pygments_lexer": "ipython3",
   "version": "3.11.8"
  }
 },
 "nbformat": 4,
 "nbformat_minor": 2
}
