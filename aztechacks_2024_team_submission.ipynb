{
 "cells": [
  {
   "cell_type": "markdown",
   "metadata": {},
   "source": [
    "# AztecHacks 2024: Quantum Challenge - Implement & Innovate with Classiq\n",
    "\n",
    "---"
   ]
  },
  {
   "cell_type": "code",
   "metadata": {
    "ExecuteTime": {
     "end_time": "2024-04-27T20:59:07.042720Z",
     "start_time": "2024-04-27T20:58:52.064957Z"
    }
   },
   "source": [
    "import classiq\n",
    "classiq.authenticate()\n",
    "\n"
   ],
   "outputs": [
    {
     "name": "stderr",
     "output_type": "stream",
     "text": [
      "C:\\Users\\ianja\\PycharmProjects\\pythonProject\\venv\\Lib\\site-packages\\classiq\\_internals\\authentication\\token_manager.py:96: UserWarning: Device is already registered.\n",
      "Generating a new refresh token should only be done if the current refresh token is compromised.\n",
      "To do so, set the overwrite parameter to true\n",
      "  warnings.warn(\n"
     ]
    }
   ],
   "execution_count": 1
  },
  {
   "cell_type": "code",
   "metadata": {
    "ExecuteTime": {
     "end_time": "2024-04-27T20:59:08.398660Z",
     "start_time": "2024-04-27T20:59:08.377742Z"
    }
   },
   "source": [
    "from classiq import *\n",
    "import numpy as np"
   ],
   "outputs": [],
   "execution_count": 2
  },
  {
   "cell_type": "markdown",
   "metadata": {},
   "source": [
    "\n",
    "---\n",
    "\n",
    "### `inplace_square`\n",
    "**What it computes:**\n",
    "- This function computes the square of the input quantum number `x` and stores the result in `y`.\n",
    "- **Mathematical description:** $ y = x^2 $\n",
    "\n",
    "**Parameters:**\n",
    "- `y`, `x`: Quantum numbers (`QNum`).\n",
    "\n",
    "---\n",
    "\n",
    "### `inplace_linear`\n",
    "**What it computes:**\n",
    "- Computes a linear transformation of the input quantum number `x` using constants `a` and `b`, storing the result in `y`.\n",
    "- **Mathematical description:** $ y = ax + b $\n",
    "\n",
    "**Parameters:**\n",
    "- `a`, `b`: Classical integers (`CInt`).\n",
    "- `x`, `y`: Quantum numbers (`QNum`).\n",
    "\n",
    "---\n",
    "\n",
    "### `inplace_quadratic`\n",
    "**What it computes:**\n",
    "- Computes the quadratic polynomial of the input quantum number `x` with coefficients `a`, `b`, and `c`, storing the result in `y`.\n",
    "- **Mathematical description:** $ y = ax^2 + bx + c $\n",
    "\n",
    "**Parameters:**\n",
    "- `a`, `b`, `c`: Classical integers (`CInt`).\n",
    "- `x`, `y`: Quantum numbers (`QNum`).\n",
    "\n",
    "---\n",
    "\n",
    "### `inplace_cubic`\n",
    "**What it computes:**\n",
    "- Computes the cubic of the input quantum number `x` using coefficient `a`, storing the result in `y`.\n",
    "- **Mathematical description:** $ y = ax^3 $\n",
    "\n",
    "**Parameters:**\n",
    "- `a`: A classical integer (`CInt`).\n",
    "- `x` , `y`: Quantum numbers (`QNum`).\n",
    "\n",
    "---\n",
    "\n",
    "\n",
    "### `inplace_exponential`\n",
    "**What it computes:**\n",
    "- Computes the exponential of the input quantum number `x` raised to a power `b` and scaled by `a`, storing the result in `y`.\n",
    "- **Mathematical description:** $ y = ax^b $\n",
    "\n",
    "**Parameters:**\n",
    "- `a`, `b`: Classical integers (`CInt`).\n",
    "- `x`, `y`: Quantum numbers (`QNum`).\n",
    "\n",
    "---"
   ]
  },
  {
   "cell_type": "code",
   "metadata": {
    "ExecuteTime": {
     "end_time": "2024-04-27T20:59:11.776644Z",
     "start_time": "2024-04-27T20:59:11.766038Z"
    }
   },
   "source": [
    "\n",
    "@qfunc\n",
    "def inplace_square(y:Output[QNum],x:QNum):\n",
    "    y |= x**2\n",
    "\n",
    "@qfunc\n",
    "def inplace_linear(a:CInt, b:CInt,x:QNum, y:Output[QNum]):\n",
    "    y |= a * x + b\n",
    "    \n",
    "    \n",
    "\n",
    "@qfunc\n",
    "def inplace_quadratic(a:CInt, b:CInt, c:CInt,x:QNum, y:Output[QNum]):\n",
    "    y |= a * x**2 + b * x + c\n",
    "    \n",
    "\n",
    "@qfunc\n",
    "def inplace_cubic(y:Output[QNum],a:CInt,x:QNum):\n",
    "    y |= a * x**3\n",
    "\n",
    "@qfunc\n",
    "def inplace_exponential(y:Output[QNum],a:CInt, b:CInt,x:QNum):\n",
    "    y |= a * x**b\n",
    "\n",
    "\n",
    "    \n"
   ],
   "outputs": [],
   "execution_count": 3
  },
  {
   "metadata": {
    "ExecuteTime": {
     "end_time": "2024-04-27T20:59:15.337672Z",
     "start_time": "2024-04-27T20:59:15.331981Z"
    }
   },
   "cell_type": "code",
   "source": "",
   "outputs": [],
   "execution_count": 3
  },
  {
   "cell_type": "markdown",
   "metadata": {},
   "source": [
    "---\n",
    "\n",
    "### `discrete_log_oracle`\n",
    "**What it computes:**\n",
    "- A quantum function that is part of a larger quantum algorithm for computing the discrete logarithm. It is an oracle used in the quantum discrete logarithm algorithm.\n",
    "- **Mathematical description:** Not explicitly given, but part of an oracle computation in quantum algorithms.\n",
    "\n",
    "**Parameters:**\n",
    "- `g`, `x`, `N`: Classical integers (`CInt`), parameters of the discrete logarithm problem.\n",
    "- `x1`, `x2`: Quantum arrays (`QArray[QBit]`), used in the computation.\n",
    "- `func_res`: An output quantum array (`Output[QArray[QBit]]`) where the result of the computation is stored.\n",
    "\n",
    "---\n",
    "\n",
    "### `inplace_discrete_logarithm`\n",
    "**What it computes:**\n",
    "- Implements a quantum algorithm for computing the discrete logarithm of `x` base `g` modulo `N`.\n",
    "- **Mathematical description:** Not explicitly detailed, but involves quantum Fourier transforms and other quantum operations.\n",
    "\n",
    "**Parameters:**\n",
    "- `g`, `x`, `N`, `order`: Classical integers (`CInt`), parameters of the discrete logarithm problem and its order.\n",
    "- `x1`, `x2`: Outputs that are quantum arrays (`Output[QArray[QBit]]`), used in the computation.\n",
    "- `func_res`: An output quantum array (`Output[QArray[QBit]]`) where the result of the computation is stored.\n",
    "\n",
    "---"
   ]
  },
  {
   "cell_type": "code",
   "metadata": {
    "ExecuteTime": {
     "end_time": "2024-04-27T22:29:30.207838Z",
     "start_time": "2024-04-27T22:29:30.202055Z"
    }
   },
   "source": [
    "from classiq.qmod.symbolic import ceiling, log\n",
    "\n",
    "@qfunc\n",
    "def discrete_log_oracle(\n",
    "    g: CInt,\n",
    "    x: CInt,\n",
    "    N: CInt,\n",
    "    x1: QArray[QBit],\n",
    "    x2: QArray[QBit],\n",
    "    func_res: Output[QArray[QBit]],\n",
    "):\n",
    "    allocate(ceiling(log(N, 2)), func_res)\n",
    "\n",
    "    inplace_prepare_int(1, func_res)\n",
    "    modular_exp(N, x, func_res, x1)\n",
    "    modular_exp(N, g, func_res, x2)\n",
    "\n",
    "\n",
    "@qfunc\n",
    "def inplace_discrete_logarithm(g: CInt,\n",
    "    x: CInt,\n",
    "    N: CInt,\n",
    "    order: CInt,\n",
    "    x1: Output[QArray[QBit]],\n",
    "    x2: Output[QArray[QBit]],\n",
    "    func_res: Output[QArray[QBit]],\n",
    "):\n",
    "    reg_len = ceiling(log(order, 2))\n",
    "    allocate(reg_len, x1)\n",
    "    allocate(reg_len, x2)\n",
    "\n",
    "    hadamard_transform(x1)\n",
    "    hadamard_transform(x2)\n",
    "\n",
    "    discrete_log_oracle(g, x, N, order, x1, x2, func_res)\n",
    "\n",
    "    invert(lambda: qft(x1))\n",
    "    invert(lambda: qft(x2))"
   ],
   "outputs": [],
   "execution_count": 73
  },
  {
   "metadata": {
    "ExecuteTime": {
     "end_time": "2024-04-27T22:25:52.584846Z",
     "start_time": "2024-04-27T22:25:52.445799Z"
    }
   },
   "cell_type": "code",
   "source": "",
   "outputs": [
    {
     "ename": "AttributeError",
     "evalue": "'CParamScalar' object has no attribute 'get_handle_binding'",
     "output_type": "error",
     "traceback": [
      "\u001B[1;31m---------------------------------------------------------------------------\u001B[0m",
      "\u001B[1;31mAttributeError\u001B[0m                            Traceback (most recent call last)",
      "Cell \u001B[1;32mIn[72], line 17\u001B[0m\n\u001B[0;32m     13\u001B[0m     inplace_discrete_logarithm(G, X, MODULU_NUM, ORDER, x1, x2, func_res)\n\u001B[0;32m     16\u001B[0m constraints \u001B[38;5;241m=\u001B[39m Constraints(max_width\u001B[38;5;241m=\u001B[39m\u001B[38;5;241m13\u001B[39m)\n\u001B[1;32m---> 17\u001B[0m qmod \u001B[38;5;241m=\u001B[39m \u001B[43mcreate_model\u001B[49m\u001B[43m(\u001B[49m\u001B[43mmain\u001B[49m\u001B[43m,\u001B[49m\u001B[43m \u001B[49m\u001B[43mconstraints\u001B[49m\u001B[38;5;241;43m=\u001B[39;49m\u001B[43mconstraints\u001B[49m\u001B[43m)\u001B[49m\n\u001B[0;32m     18\u001B[0m write_qmod(qmod, \u001B[38;5;124m\"\u001B[39m\u001B[38;5;124mdiscrete_log\u001B[39m\u001B[38;5;124m\"\u001B[39m)\n\u001B[0;32m     20\u001B[0m qprog \u001B[38;5;241m=\u001B[39m synthesize(qmod)\n",
      "File \u001B[1;32m~\\PycharmProjects\\pythonProject\\venv\\Lib\\site-packages\\classiq\\qmod\\quantum_function.py:44\u001B[0m, in \u001B[0;36mcreate_model\u001B[1;34m(entry_point, constraints, execution_preferences, preferences, classical_execution_function)\u001B[0m\n\u001B[0;32m     40\u001B[0m \u001B[38;5;28;01mif\u001B[39;00m entry_point\u001B[38;5;241m.\u001B[39mfunc_decl\u001B[38;5;241m.\u001B[39mname \u001B[38;5;241m!=\u001B[39m \u001B[38;5;124m\"\u001B[39m\u001B[38;5;124mmain\u001B[39m\u001B[38;5;124m\"\u001B[39m:\n\u001B[0;32m     41\u001B[0m     \u001B[38;5;28;01mraise\u001B[39;00m ClassiqError(\n\u001B[0;32m     42\u001B[0m         \u001B[38;5;124mf\u001B[39m\u001B[38;5;124m\"\u001B[39m\u001B[38;5;124mThe entry point function must be named \u001B[39m\u001B[38;5;124m'\u001B[39m\u001B[38;5;124mmain\u001B[39m\u001B[38;5;124m'\u001B[39m\u001B[38;5;124m, got \u001B[39m\u001B[38;5;124m'\u001B[39m\u001B[38;5;132;01m{\u001B[39;00mentry_point\u001B[38;5;241m.\u001B[39mfunc_decl\u001B[38;5;241m.\u001B[39mname\u001B[38;5;132;01m}\u001B[39;00m\u001B[38;5;124m'\u001B[39m\u001B[38;5;124m\"\u001B[39m\n\u001B[0;32m     43\u001B[0m     )\n\u001B[1;32m---> 44\u001B[0m \u001B[38;5;28;01mreturn\u001B[39;00m \u001B[43mentry_point\u001B[49m\u001B[38;5;241;43m.\u001B[39;49m\u001B[43mcreate_model\u001B[49m\u001B[43m(\u001B[49m\n\u001B[0;32m     45\u001B[0m \u001B[43m    \u001B[49m\u001B[43mconstraints\u001B[49m\u001B[43m,\u001B[49m\u001B[43m \u001B[49m\u001B[43mexecution_preferences\u001B[49m\u001B[43m,\u001B[49m\u001B[43m \u001B[49m\u001B[43mpreferences\u001B[49m\u001B[43m,\u001B[49m\u001B[43m \u001B[49m\u001B[43mclassical_execution_function\u001B[49m\n\u001B[0;32m     46\u001B[0m \u001B[43m\u001B[49m\u001B[43m)\u001B[49m\u001B[38;5;241m.\u001B[39mget_model()\n",
      "File \u001B[1;32m~\\PycharmProjects\\pythonProject\\venv\\Lib\\site-packages\\classiq\\qmod\\quantum_function.py:89\u001B[0m, in \u001B[0;36mQFunc.create_model\u001B[1;34m(self, constraints, execution_preferences, preferences, classical_execution_function)\u001B[0m\n\u001B[0;32m     87\u001B[0m \u001B[38;5;28mself\u001B[39m\u001B[38;5;241m.\u001B[39m_qmodule\u001B[38;5;241m.\u001B[39mconstants \u001B[38;5;241m=\u001B[39m \u001B[38;5;28mdict\u001B[39m()\n\u001B[0;32m     88\u001B[0m QConstant\u001B[38;5;241m.\u001B[39mset_current_model(\u001B[38;5;28mself\u001B[39m\u001B[38;5;241m.\u001B[39m_qmodule)\n\u001B[1;32m---> 89\u001B[0m \u001B[38;5;28;43mself\u001B[39;49m\u001B[38;5;241;43m.\u001B[39;49m\u001B[43m_add_native_func_def\u001B[49m\u001B[43m(\u001B[49m\u001B[43m)\u001B[49m\n\u001B[0;32m     90\u001B[0m model_extra_settings: List[Tuple[\u001B[38;5;28mstr\u001B[39m, Any]] \u001B[38;5;241m=\u001B[39m [\n\u001B[0;32m     91\u001B[0m     (\u001B[38;5;124m\"\u001B[39m\u001B[38;5;124mconstraints\u001B[39m\u001B[38;5;124m\"\u001B[39m, constraints),\n\u001B[0;32m     92\u001B[0m     (\u001B[38;5;124m\"\u001B[39m\u001B[38;5;124mexecution_preferences\u001B[39m\u001B[38;5;124m\"\u001B[39m, execution_preferences),\n\u001B[0;32m     93\u001B[0m     (\u001B[38;5;124m\"\u001B[39m\u001B[38;5;124mpreferences\u001B[39m\u001B[38;5;124m\"\u001B[39m, preferences),\n\u001B[0;32m     94\u001B[0m ]\n\u001B[0;32m     95\u001B[0m \u001B[38;5;28;01mif\u001B[39;00m classical_execution_function \u001B[38;5;129;01mis\u001B[39;00m \u001B[38;5;129;01mnot\u001B[39;00m \u001B[38;5;28;01mNone\u001B[39;00m:\n",
      "File \u001B[1;32m~\\PycharmProjects\\pythonProject\\venv\\Lib\\site-packages\\classiq\\qmod\\quantum_function.py:110\u001B[0m, in \u001B[0;36mQFunc._add_native_func_def\u001B[1;34m(self)\u001B[0m\n\u001B[0;32m    108\u001B[0m \u001B[38;5;28;01mif\u001B[39;00m \u001B[38;5;28mself\u001B[39m\u001B[38;5;241m.\u001B[39mfunc_decl\u001B[38;5;241m.\u001B[39mname \u001B[38;5;129;01min\u001B[39;00m \u001B[38;5;28mself\u001B[39m\u001B[38;5;241m.\u001B[39m_qmodule\u001B[38;5;241m.\u001B[39mnative_defs:\n\u001B[0;32m    109\u001B[0m     \u001B[38;5;28;01mreturn\u001B[39;00m\n\u001B[1;32m--> 110\u001B[0m \u001B[38;5;28;43mself\u001B[39;49m\u001B[38;5;241;43m.\u001B[39;49m\u001B[43mexpand\u001B[49m\u001B[43m(\u001B[49m\u001B[43m)\u001B[49m\n\u001B[0;32m    111\u001B[0m \u001B[38;5;28mself\u001B[39m\u001B[38;5;241m.\u001B[39m_qmodule\u001B[38;5;241m.\u001B[39mnative_defs[\u001B[38;5;28mself\u001B[39m\u001B[38;5;241m.\u001B[39mfunc_decl\u001B[38;5;241m.\u001B[39mname] \u001B[38;5;241m=\u001B[39m NativeFunctionDefinition(\n\u001B[0;32m    112\u001B[0m     \u001B[38;5;241m*\u001B[39m\u001B[38;5;241m*\u001B[39m\u001B[38;5;28mself\u001B[39m\u001B[38;5;241m.\u001B[39mfunc_decl\u001B[38;5;241m.\u001B[39m\u001B[38;5;18m__dict__\u001B[39m, body\u001B[38;5;241m=\u001B[39m\u001B[38;5;28mself\u001B[39m\u001B[38;5;241m.\u001B[39mbody\n\u001B[0;32m    113\u001B[0m )\n",
      "File \u001B[1;32m~\\PycharmProjects\\pythonProject\\venv\\Lib\\site-packages\\classiq\\qmod\\quantum_expandable.py:85\u001B[0m, in \u001B[0;36mQExpandable.expand\u001B[1;34m(self)\u001B[0m\n\u001B[0;32m     83\u001B[0m \u001B[38;5;28;01mdef\u001B[39;00m \u001B[38;5;21mexpand\u001B[39m(\u001B[38;5;28mself\u001B[39m) \u001B[38;5;241m-\u001B[39m\u001B[38;5;241m>\u001B[39m \u001B[38;5;28;01mNone\u001B[39;00m:\n\u001B[0;32m     84\u001B[0m     \u001B[38;5;28;01mwith\u001B[39;00m \u001B[38;5;28mself\u001B[39m:\n\u001B[1;32m---> 85\u001B[0m         \u001B[38;5;28;43mself\u001B[39;49m\u001B[38;5;241;43m.\u001B[39;49m\u001B[43m_py_callable\u001B[49m\u001B[43m(\u001B[49m\u001B[38;5;241;43m*\u001B[39;49m\u001B[38;5;28;43mself\u001B[39;49m\u001B[38;5;241;43m.\u001B[39;49m\u001B[43m_get_positional_args\u001B[49m\u001B[43m(\u001B[49m\u001B[43m)\u001B[49m\u001B[43m)\u001B[49m\n",
      "Cell \u001B[1;32mIn[72], line 13\u001B[0m, in \u001B[0;36mmain\u001B[1;34m(x1, x2, func_res)\u001B[0m\n\u001B[0;32m      7\u001B[0m \u001B[38;5;129m@qfunc\u001B[39m\n\u001B[0;32m      8\u001B[0m \u001B[38;5;28;01mdef\u001B[39;00m \u001B[38;5;21mmain\u001B[39m(\n\u001B[0;32m      9\u001B[0m     x1: Output[QNum],\n\u001B[0;32m     10\u001B[0m     x2: Output[QNum],\n\u001B[0;32m     11\u001B[0m     func_res: Output[QNum],\n\u001B[0;32m     12\u001B[0m ):\n\u001B[1;32m---> 13\u001B[0m     \u001B[43minplace_discrete_logarithm\u001B[49m\u001B[43m(\u001B[49m\u001B[43mG\u001B[49m\u001B[43m,\u001B[49m\u001B[43m \u001B[49m\u001B[43mX\u001B[49m\u001B[43m,\u001B[49m\u001B[43m \u001B[49m\u001B[43mMODULU_NUM\u001B[49m\u001B[43m,\u001B[49m\u001B[43m \u001B[49m\u001B[43mORDER\u001B[49m\u001B[43m,\u001B[49m\u001B[43m \u001B[49m\u001B[43mx1\u001B[49m\u001B[43m,\u001B[49m\u001B[43m \u001B[49m\u001B[43mx2\u001B[49m\u001B[43m,\u001B[49m\u001B[43m \u001B[49m\u001B[43mfunc_res\u001B[49m\u001B[43m)\u001B[49m\n",
      "File \u001B[1;32m~\\PycharmProjects\\pythonProject\\venv\\Lib\\site-packages\\classiq\\qmod\\quantum_function.py:76\u001B[0m, in \u001B[0;36mQFunc.__call__\u001B[1;34m(self, *args, **kwargs)\u001B[0m\n\u001B[0;32m     74\u001B[0m \u001B[38;5;28;01mdef\u001B[39;00m \u001B[38;5;21m__call__\u001B[39m(\u001B[38;5;28mself\u001B[39m, \u001B[38;5;241m*\u001B[39margs: Any, \u001B[38;5;241m*\u001B[39m\u001B[38;5;241m*\u001B[39mkwargs: Any) \u001B[38;5;241m-\u001B[39m\u001B[38;5;241m>\u001B[39m \u001B[38;5;28;01mNone\u001B[39;00m:\n\u001B[0;32m     75\u001B[0m     \u001B[38;5;28msuper\u001B[39m()\u001B[38;5;241m.\u001B[39m\u001B[38;5;21m__call__\u001B[39m(\u001B[38;5;241m*\u001B[39margs, \u001B[38;5;241m*\u001B[39m\u001B[38;5;241m*\u001B[39mkwargs)\n\u001B[1;32m---> 76\u001B[0m     \u001B[38;5;28;43mself\u001B[39;49m\u001B[38;5;241;43m.\u001B[39;49m\u001B[43m_add_native_func_def\u001B[49m\u001B[43m(\u001B[49m\u001B[43m)\u001B[49m\n",
      "File \u001B[1;32m~\\PycharmProjects\\pythonProject\\venv\\Lib\\site-packages\\classiq\\qmod\\quantum_function.py:110\u001B[0m, in \u001B[0;36mQFunc._add_native_func_def\u001B[1;34m(self)\u001B[0m\n\u001B[0;32m    108\u001B[0m \u001B[38;5;28;01mif\u001B[39;00m \u001B[38;5;28mself\u001B[39m\u001B[38;5;241m.\u001B[39mfunc_decl\u001B[38;5;241m.\u001B[39mname \u001B[38;5;129;01min\u001B[39;00m \u001B[38;5;28mself\u001B[39m\u001B[38;5;241m.\u001B[39m_qmodule\u001B[38;5;241m.\u001B[39mnative_defs:\n\u001B[0;32m    109\u001B[0m     \u001B[38;5;28;01mreturn\u001B[39;00m\n\u001B[1;32m--> 110\u001B[0m \u001B[38;5;28;43mself\u001B[39;49m\u001B[38;5;241;43m.\u001B[39;49m\u001B[43mexpand\u001B[49m\u001B[43m(\u001B[49m\u001B[43m)\u001B[49m\n\u001B[0;32m    111\u001B[0m \u001B[38;5;28mself\u001B[39m\u001B[38;5;241m.\u001B[39m_qmodule\u001B[38;5;241m.\u001B[39mnative_defs[\u001B[38;5;28mself\u001B[39m\u001B[38;5;241m.\u001B[39mfunc_decl\u001B[38;5;241m.\u001B[39mname] \u001B[38;5;241m=\u001B[39m NativeFunctionDefinition(\n\u001B[0;32m    112\u001B[0m     \u001B[38;5;241m*\u001B[39m\u001B[38;5;241m*\u001B[39m\u001B[38;5;28mself\u001B[39m\u001B[38;5;241m.\u001B[39mfunc_decl\u001B[38;5;241m.\u001B[39m\u001B[38;5;18m__dict__\u001B[39m, body\u001B[38;5;241m=\u001B[39m\u001B[38;5;28mself\u001B[39m\u001B[38;5;241m.\u001B[39mbody\n\u001B[0;32m    113\u001B[0m )\n",
      "File \u001B[1;32m~\\PycharmProjects\\pythonProject\\venv\\Lib\\site-packages\\classiq\\qmod\\quantum_expandable.py:85\u001B[0m, in \u001B[0;36mQExpandable.expand\u001B[1;34m(self)\u001B[0m\n\u001B[0;32m     83\u001B[0m \u001B[38;5;28;01mdef\u001B[39;00m \u001B[38;5;21mexpand\u001B[39m(\u001B[38;5;28mself\u001B[39m) \u001B[38;5;241m-\u001B[39m\u001B[38;5;241m>\u001B[39m \u001B[38;5;28;01mNone\u001B[39;00m:\n\u001B[0;32m     84\u001B[0m     \u001B[38;5;28;01mwith\u001B[39;00m \u001B[38;5;28mself\u001B[39m:\n\u001B[1;32m---> 85\u001B[0m         \u001B[38;5;28;43mself\u001B[39;49m\u001B[38;5;241;43m.\u001B[39;49m\u001B[43m_py_callable\u001B[49m\u001B[43m(\u001B[49m\u001B[38;5;241;43m*\u001B[39;49m\u001B[38;5;28;43mself\u001B[39;49m\u001B[38;5;241;43m.\u001B[39;49m\u001B[43m_get_positional_args\u001B[49m\u001B[43m(\u001B[49m\u001B[43m)\u001B[49m\u001B[43m)\u001B[49m\n",
      "Cell \u001B[1;32mIn[71], line 35\u001B[0m, in \u001B[0;36minplace_discrete_logarithm\u001B[1;34m(g, x, N, order, x1, x2, func_res)\u001B[0m\n\u001B[0;32m     32\u001B[0m hadamard_transform(x1)\n\u001B[0;32m     33\u001B[0m hadamard_transform(x2)\n\u001B[1;32m---> 35\u001B[0m \u001B[43mdiscrete_log_oracle\u001B[49m\u001B[43m(\u001B[49m\u001B[43mg\u001B[49m\u001B[43m,\u001B[49m\u001B[43m \u001B[49m\u001B[43mx\u001B[49m\u001B[43m,\u001B[49m\u001B[43m \u001B[49m\u001B[43mN\u001B[49m\u001B[43m,\u001B[49m\u001B[43m \u001B[49m\u001B[43morder\u001B[49m\u001B[43m,\u001B[49m\u001B[43m \u001B[49m\u001B[43mx1\u001B[49m\u001B[43m,\u001B[49m\u001B[43m \u001B[49m\u001B[43mx2\u001B[49m\u001B[43m,\u001B[49m\u001B[43m \u001B[49m\u001B[43mfunc_res\u001B[49m\u001B[43m)\u001B[49m\n\u001B[0;32m     37\u001B[0m invert(\u001B[38;5;28;01mlambda\u001B[39;00m: qft(x1))\n\u001B[0;32m     38\u001B[0m invert(\u001B[38;5;28;01mlambda\u001B[39;00m: qft(x2))\n",
      "File \u001B[1;32m~\\PycharmProjects\\pythonProject\\venv\\Lib\\site-packages\\classiq\\qmod\\quantum_function.py:75\u001B[0m, in \u001B[0;36mQFunc.__call__\u001B[1;34m(self, *args, **kwargs)\u001B[0m\n\u001B[0;32m     74\u001B[0m \u001B[38;5;28;01mdef\u001B[39;00m \u001B[38;5;21m__call__\u001B[39m(\u001B[38;5;28mself\u001B[39m, \u001B[38;5;241m*\u001B[39margs: Any, \u001B[38;5;241m*\u001B[39m\u001B[38;5;241m*\u001B[39mkwargs: Any) \u001B[38;5;241m-\u001B[39m\u001B[38;5;241m>\u001B[39m \u001B[38;5;28;01mNone\u001B[39;00m:\n\u001B[1;32m---> 75\u001B[0m     \u001B[38;5;28;43msuper\u001B[39;49m\u001B[43m(\u001B[49m\u001B[43m)\u001B[49m\u001B[38;5;241;43m.\u001B[39;49m\u001B[38;5;21;43m__call__\u001B[39;49m\u001B[43m(\u001B[49m\u001B[38;5;241;43m*\u001B[39;49m\u001B[43margs\u001B[49m\u001B[43m,\u001B[49m\u001B[43m \u001B[49m\u001B[38;5;241;43m*\u001B[39;49m\u001B[38;5;241;43m*\u001B[39;49m\u001B[43mkwargs\u001B[49m\u001B[43m)\u001B[49m\n\u001B[0;32m     76\u001B[0m     \u001B[38;5;28mself\u001B[39m\u001B[38;5;241m.\u001B[39m_add_native_func_def()\n",
      "File \u001B[1;32m~\\PycharmProjects\\pythonProject\\venv\\Lib\\site-packages\\classiq\\qmod\\quantum_callable.py:49\u001B[0m, in \u001B[0;36mQCallable.__call__\u001B[1;34m(self, *args, **kwargs)\u001B[0m\n\u001B[0;32m     46\u001B[0m \u001B[38;5;28;01massert\u001B[39;00m QCallable\u001B[38;5;241m.\u001B[39mCURRENT_EXPANDABLE \u001B[38;5;129;01mis\u001B[39;00m \u001B[38;5;129;01mnot\u001B[39;00m \u001B[38;5;28;01mNone\u001B[39;00m\n\u001B[0;32m     47\u001B[0m source_ref \u001B[38;5;241m=\u001B[39m get_source_ref(sys\u001B[38;5;241m.\u001B[39m_getframe(\u001B[38;5;241m1\u001B[39m))\n\u001B[0;32m     48\u001B[0m QCallable\u001B[38;5;241m.\u001B[39mCURRENT_EXPANDABLE\u001B[38;5;241m.\u001B[39mappend_statement_to_body(\n\u001B[1;32m---> 49\u001B[0m     \u001B[38;5;28;43mself\u001B[39;49m\u001B[38;5;241;43m.\u001B[39;49m\u001B[43mcreate_quantum_function_call\u001B[49m\u001B[43m(\u001B[49m\u001B[43msource_ref\u001B[49m\u001B[43m,\u001B[49m\u001B[43m \u001B[49m\u001B[38;5;241;43m*\u001B[39;49m\u001B[43margs\u001B[49m\u001B[43m,\u001B[49m\u001B[43m \u001B[49m\u001B[38;5;241;43m*\u001B[39;49m\u001B[38;5;241;43m*\u001B[39;49m\u001B[43mkwargs\u001B[49m\u001B[43m)\u001B[49m\n\u001B[0;32m     50\u001B[0m )\n\u001B[0;32m     51\u001B[0m \u001B[38;5;28;01mreturn\u001B[39;00m\n",
      "File \u001B[1;32m~\\PycharmProjects\\pythonProject\\venv\\Lib\\site-packages\\classiq\\qmod\\quantum_expandable.py:115\u001B[0m, in \u001B[0;36mQExpandable.create_quantum_function_call\u001B[1;34m(self, source_ref_, *args, **kwargs)\u001B[0m\n\u001B[0;32m    112\u001B[0m \u001B[38;5;28;01mdef\u001B[39;00m \u001B[38;5;21mcreate_quantum_function_call\u001B[39m(\n\u001B[0;32m    113\u001B[0m     \u001B[38;5;28mself\u001B[39m, source_ref_: SourceReference, \u001B[38;5;241m*\u001B[39margs: Any, \u001B[38;5;241m*\u001B[39m\u001B[38;5;241m*\u001B[39mkwargs: Any\n\u001B[0;32m    114\u001B[0m ) \u001B[38;5;241m-\u001B[39m\u001B[38;5;241m>\u001B[39m QuantumFunctionCall:\n\u001B[1;32m--> 115\u001B[0m     \u001B[38;5;28;01mreturn\u001B[39;00m \u001B[43m_create_quantum_function_call\u001B[49m\u001B[43m(\u001B[49m\n\u001B[0;32m    116\u001B[0m \u001B[43m        \u001B[49m\u001B[38;5;28;43mself\u001B[39;49m\u001B[38;5;241;43m.\u001B[39;49m\u001B[43mfunc_decl\u001B[49m\u001B[43m,\u001B[49m\u001B[43m \u001B[49m\u001B[38;5;28;43;01mNone\u001B[39;49;00m\u001B[43m,\u001B[49m\u001B[43m \u001B[49m\u001B[43msource_ref_\u001B[49m\u001B[43m,\u001B[49m\u001B[43m \u001B[49m\u001B[38;5;241;43m*\u001B[39;49m\u001B[43margs\u001B[49m\u001B[43m,\u001B[49m\u001B[43m \u001B[49m\u001B[38;5;241;43m*\u001B[39;49m\u001B[38;5;241;43m*\u001B[39;49m\u001B[43mkwargs\u001B[49m\n\u001B[0;32m    117\u001B[0m \u001B[43m    \u001B[49m\u001B[43m)\u001B[49m\n",
      "File \u001B[1;32m~\\PycharmProjects\\pythonProject\\venv\\Lib\\site-packages\\classiq\\qmod\\quantum_expandable.py:291\u001B[0m, in \u001B[0;36m_create_quantum_function_call\u001B[1;34m(decl_, index_, source_ref_, *args, **kwargs)\u001B[0m\n\u001B[0;32m    289\u001B[0m arg_decls \u001B[38;5;241m=\u001B[39m decl_\u001B[38;5;241m.\u001B[39mget_positional_arg_decls()\n\u001B[0;32m    290\u001B[0m arg_list \u001B[38;5;241m=\u001B[39m \u001B[38;5;28mlist\u001B[39m(args)\n\u001B[1;32m--> 291\u001B[0m prepared_args \u001B[38;5;241m=\u001B[39m \u001B[43m_prepare_args\u001B[49m\u001B[43m(\u001B[49m\u001B[43mdecl_\u001B[49m\u001B[43m,\u001B[49m\u001B[43m \u001B[49m\u001B[43marg_list\u001B[49m\u001B[43m,\u001B[49m\u001B[43m \u001B[49m\u001B[43mkwargs\u001B[49m\u001B[43m)\u001B[49m\n\u001B[0;32m    293\u001B[0m \u001B[38;5;28;01mif\u001B[39;00m kwargs:\n\u001B[0;32m    294\u001B[0m     bad_kwarg \u001B[38;5;241m=\u001B[39m \u001B[38;5;28mnext\u001B[39m(\u001B[38;5;28miter\u001B[39m(kwargs))\n",
      "File \u001B[1;32m~\\PycharmProjects\\pythonProject\\venv\\Lib\\site-packages\\classiq\\qmod\\quantum_expandable.py:277\u001B[0m, in \u001B[0;36m_prepare_args\u001B[1;34m(decl, arg_list, kwargs)\u001B[0m\n\u001B[0;32m    275\u001B[0m             error_message \u001B[38;5;241m+\u001B[39m\u001B[38;5;241m=\u001B[39m _get_operand_hint(decl, arg_decl)\n\u001B[0;32m    276\u001B[0m         \u001B[38;5;28;01mraise\u001B[39;00m ClassiqValueError(error_message)\n\u001B[1;32m--> 277\u001B[0m     result\u001B[38;5;241m.\u001B[39mappend(\u001B[43mprepare_arg\u001B[49m\u001B[43m(\u001B[49m\u001B[43marg_decl\u001B[49m\u001B[43m,\u001B[49m\u001B[43m \u001B[49m\u001B[43marg\u001B[49m\u001B[43m)\u001B[49m)\n\u001B[0;32m    279\u001B[0m \u001B[38;5;28;01mreturn\u001B[39;00m result\n",
      "File \u001B[1;32m~\\PycharmProjects\\pythonProject\\venv\\Lib\\site-packages\\classiq\\qmod\\quantum_expandable.py:213\u001B[0m, in \u001B[0;36mprepare_arg\u001B[1;34m(arg_decl, val)\u001B[0m\n\u001B[0;32m    211\u001B[0m     \u001B[38;5;28;01mreturn\u001B[39;00m Expression(expr\u001B[38;5;241m=\u001B[39m\u001B[38;5;28mstr\u001B[39m(val))\n\u001B[0;32m    212\u001B[0m \u001B[38;5;28;01melif\u001B[39;00m \u001B[38;5;28misinstance\u001B[39m(arg_decl, PortDeclaration):\n\u001B[1;32m--> 213\u001B[0m     \u001B[38;5;28;01mreturn\u001B[39;00m \u001B[43mval\u001B[49m\u001B[38;5;241;43m.\u001B[39;49m\u001B[43mget_handle_binding\u001B[49m()\n\u001B[0;32m    214\u001B[0m \u001B[38;5;28;01melse\u001B[39;00m:\n\u001B[0;32m    215\u001B[0m     \u001B[38;5;28;01mif\u001B[39;00m \u001B[38;5;28misinstance\u001B[39m(val, \u001B[38;5;28mlist\u001B[39m):\n",
      "\u001B[1;31mAttributeError\u001B[0m: 'CParamScalar' object has no attribute 'get_handle_binding'"
     ]
    }
   ],
   "execution_count": 72
  },
  {
   "cell_type": "markdown",
   "metadata": {},
   "source": [
    "---\n",
    "\n",
    "\n",
    "### `equality_oracle`\n",
    "**What it computes:**\n",
    "- This function compares two quantum numbers `x_1` and `x_2` for equality, and stores the result in `y`.\n",
    "- **Mathematical description:** $ y = (x_1 == x_2) $ (This function sets `y` to a value indicating whether `x_1` and `x_2` are equal.)\n",
    "\n",
    "**Parameters:**\n",
    "- `y`: A quantum number (`QNum`) where the result is stored.\n",
    "- `x_1`, `x_2`: Quantum numbers (`QNum`) that are compared.\n",
    "\n",
    "---\n",
    "\n",
    "### `inplace_sum`\n",
    "**What it computes:**\n",
    "- Computes the sum of two quantum numbers `y` and `x`, storing the result back in `y`.\n",
    "- **Mathematical description:** $ y = y + x $\n",
    "\n",
    "**Parameters:**\n",
    "- `y`: A quantum number (`QNum`) that holds the initial value and where the result is stored.\n",
    "- `x`: A quantum number (`QNum`) that is added to `y`.\n",
    "\n",
    "---\n",
    "\n",
    "### `sum_of_squares`\n",
    "**What it computes:**\n",
    "- Calculates the sum of the squares of two quantum numbers `x_1` and `x_2`, storing the result in `y`.\n",
    "- **Mathematical description:** $ y = x_1^2 + x_2^2 $\n",
    "- This function involves additional operations like allocating temporary quantum numbers `temp_1` and `temp_2` and performing transformations on them.\n",
    "\n",
    "**Parameters:**\n",
    "- `y`: A quantum number (`QNum`) where the result is stored.\n",
    "- `x_1`, `x_2`: Quantum numbers (`QNum`) whose squares are computed and summed.\n",
    "\n",
    "---"
   ]
  },
  {
   "cell_type": "code",
   "metadata": {
    "ExecuteTime": {
     "end_time": "2024-04-27T22:15:07.449672Z",
     "start_time": "2024-04-27T22:15:07.440179Z"
    }
   },
   "source": [
    "@qfunc\n",
    "def equality_oracle(y:Output[QNum],x_1:QNum,x_2:QNum):\n",
    "    y |= (x_1 == x_2)\n",
    "\n",
    "@qfunc\n",
    "def base_four(y:QNum,x:QNum, z:QNum):\n",
    "    y += x\n",
    "    y += z\n",
    "    \n",
    "@qfunc\n",
    "def inplace_sum(y:QNum,x:QNum):\n",
    "    inplace_add(x,y)\n",
    "\n",
    "    \n",
    "    \n",
    "    \n",
    "\n",
    "@qfunc\n",
    "def sum_of_squares(y:Output[QNum],x_1:QNum,x_2:QNum):\n",
    "    temp_1 = QNum(\"temp_1\")\n",
    "    temp_2 = QNum(\"temp_2\")\n",
    "    \n",
    "    inplace_square(temp_1,x_1)\n",
    "    inplace_square(temp_2,x_2)\n",
    "    y |= temp_1 + temp_2"
   ],
   "outputs": [],
   "execution_count": 69
  },
  {
   "metadata": {
    "ExecuteTime": {
     "end_time": "2024-04-27T23:31:08.072695Z",
     "start_time": "2024-04-27T23:31:08.069495Z"
    }
   },
   "cell_type": "code",
   "source": [
    "\n",
    "@qfunc\n",
    "def discrete_tanh(y:Output[QNum], x:QNum):\n",
    "    n = QNum(\"n\")\n",
    "    inplace_cubic(n, 1, x)\n",
    "    \n",
    "    y |= x - (1/3) * n"
   ],
   "outputs": [],
   "execution_count": 142
  },
  {
   "metadata": {
    "ExecuteTime": {
     "end_time": "2024-04-27T23:32:36.782809Z",
     "start_time": "2024-04-27T23:32:31.366039Z"
    }
   },
   "cell_type": "code",
   "source": [
    "@qfunc\n",
    "def main(y:Output[QNum], x:Output[QNum]):\n",
    "    allocate_num(num_qubits=2, is_signed=False, fraction_digits=2, out=x)\n",
    "    hadamard_transform(x)\n",
    "    discrete_tanh(y, x)\n",
    "\n",
    "constraints = Constraints(max_width=25)\n",
    "qmod = create_model(main, constraints=constraints)\n",
    "qprog = synthesize(qmod)\n",
    "show(qprog)"
   ],
   "outputs": [
    {
     "name": "stdout",
     "output_type": "stream",
     "text": [
      "Opening: https://platform.classiq.io/circuit/ab4da61e-48e3-4d0a-9965-c11cc5ed41b0?version=0.40.0\n"
     ]
    }
   ],
   "execution_count": 144
  },
  {
   "metadata": {},
   "cell_type": "code",
   "outputs": [],
   "execution_count": null,
   "source": "\n"
  }
 ],
 "metadata": {
  "kernelspec": {
   "display_name": "Python 3",
   "language": "python",
   "name": "python3"
  },
  "language_info": {
   "codemirror_mode": {
    "name": "ipython",
    "version": 3
   },
   "file_extension": ".py",
   "mimetype": "text/x-python",
   "name": "python",
   "nbconvert_exporter": "python",
   "pygments_lexer": "ipython3",
   "version": "3.11.8"
  }
 },
 "nbformat": 4,
 "nbformat_minor": 2
}
